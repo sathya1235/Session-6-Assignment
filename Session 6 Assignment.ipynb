{
 "cells": [
  {
   "cell_type": "code",
   "execution_count": null,
   "metadata": {},
   "outputs": [],
   "source": [
    "# Write a function so that the columns of the output matrix are powers of the input vector.  \n",
    "# The order of the powers is determined by the increasing boolean argument. Specifically, \n",
    "# when increasing is False, the i-th output column is the input vector raised element-wise   \n",
    "# to the power of N - i - 1.   \n",
    "# HINT: Such a matrix with a geometric progression in each row is named for Alexandre Theophile Vandermonde.   "
   ]
  },
  {
   "cell_type": "code",
   "execution_count": 9,
   "metadata": {},
   "outputs": [
    {
     "name": "stdout",
     "output_type": "stream",
     "text": [
      "Output Vandermonde Matrix with x :\n",
      "[[  1   1   1   1   1]\n",
      " [ 16   8   4   2   1]\n",
      " [ 81  27   9   3   1]\n",
      " [256  64  16   4   1]\n",
      " [625 125  25   5   1]]\n",
      "Output Vandermonde Matrix with x and N :\n",
      "[[ 1  1  1]\n",
      " [ 4  2  1]\n",
      " [ 9  3  1]\n",
      " [16  4  1]\n",
      " [25  5  1]]\n",
      "Output Vandermonde Matrix with x and increasing : \n",
      "[[  1   1   1   1   1]\n",
      " [  1   2   4   8  16]\n",
      " [  1   3   9  27  81]\n",
      " [  1   4  16  64 256]\n",
      " [  1   5  25 125 625]]\n",
      "Output Vandermonde Matrix with x, N and increasing : \n",
      "[[ 1  1  1]\n",
      " [ 1  2  4]\n",
      " [ 1  3  9]\n",
      " [ 1  4 16]\n",
      " [ 1  5 25]]\n"
     ]
    }
   ],
   "source": [
    "import numpy as np   # importing numpy package for implementing linear algebra\n",
    "x = np.array([1, 2, 3, 4, 5])    # 1-D input array\n",
    "N = 3  # Number of columns in the output. If N is not specified, a square array is returned (N = len(x))\n",
    "\n",
    "# numpy.vander(x, N=None, increasing=False)  >>>> default values of parameters passed\n",
    "\n",
    "print('Output Vandermonde Matrix with x :')\n",
    "# N = len(x) = 5 >>> increasing is False,\n",
    "# Columns are generated as: first>> x^(N-1), second >> x^(N-2),third >> x^(N-3),fourth >> x^(N-4) and fifth >> x^(N-5)\n",
    "\n",
    "print(format(np.vander(x)))     \n",
    "      \n",
    "print('Output Vandermonde Matrix with x and N :')\n",
    "# N = 3 >>> increasing is False,\n",
    "# Columns are generated as: first>> x^(N-1), second >> x^(N-2) and third >> x^(N-3)\n",
    "\n",
    "print(format(np.vander(x, N)))\n",
    "\n",
    "print('Output Vandermonde Matrix with x and increasing : ')\n",
    "# N = len(x) = 5 >>> increasing is True,\n",
    "# Columns are generated as: first>> x^(N-5), second >> x^(N-4),third >> x^(N-3),fourth >> x^(N-2) and fifth >> x^(N-1)\n",
    "\n",
    "print(format(np.vander(x, increasing=True)))\n",
    "              \n",
    "print('Output Vandermonde Matrix with x, N and increasing : ')\n",
    "# N = 3 >>> increasing is True,\n",
    "# Columns are generated as: first>> x^(N-3), second >> x^(N-2) and third >> x^(N-1)\n",
    "\n",
    "print(format(np.vander(x, N, increasing=True)))\n"
   ]
  }
 ],
 "metadata": {
  "kernelspec": {
   "display_name": "Python 3",
   "language": "python",
   "name": "python3"
  },
  "language_info": {
   "codemirror_mode": {
    "name": "ipython",
    "version": 3
   },
   "file_extension": ".py",
   "mimetype": "text/x-python",
   "name": "python",
   "nbconvert_exporter": "python",
   "pygments_lexer": "ipython3",
   "version": "3.7.0"
  }
 },
 "nbformat": 4,
 "nbformat_minor": 2
}
